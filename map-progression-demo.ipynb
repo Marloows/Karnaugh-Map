{
 "cells": [
  {
   "attachments": {},
   "cell_type": "markdown",
   "metadata": {},
   "source": [
    "# Karnaugh-Map"
   ]
  },
  {
   "attachments": {},
   "cell_type": "markdown",
   "metadata": {},
   "source": [
    "Demonstration on how the Karnaugh-Map is created"
   ]
  },
  {
   "attachments": {},
   "cell_type": "markdown",
   "metadata": {},
   "source": [
    "## General notion behind the Karnaugh-Map"
   ]
  },
  {
   "attachments": {},
   "cell_type": "markdown",
   "metadata": {},
   "source": [
    "The Karnaugh-Map is a visual representation of all possible combination of $N$ binary inputs which is mapped to on binary output."
   ]
  },
  {
   "attachments": {},
   "cell_type": "markdown",
   "metadata": {},
   "source": [
    "The Karnaugh-Map displays all possible combination of $N$ inputs with $2$ state each. And therefor require $2^N$ different input variation."
   ]
  },
  {
   "attachments": {},
   "cell_type": "markdown",
   "metadata": {},
   "source": [
    "**This also means the map can always be divided in two sections**"
   ]
  },
  {
   "attachments": {},
   "cell_type": "markdown",
   "metadata": {},
   "source": [
    "One section represents the state of a given input, where the input value is $1$.\n",
    "\n",
    "The other section is where the input is set to $0$.\n",
    "\n",
    "This must be true for all of the inputs!"
   ]
  },
  {
   "attachments": {},
   "cell_type": "markdown",
   "metadata": {},
   "source": [
    "## My Algorithm"
   ]
  },
  {
   "attachments": {},
   "cell_type": "markdown",
   "metadata": {},
   "source": [
    "Based on the fact, that the map represents two states of a given input. We can build the matrix for $N$ by starting with $1$ input matrix and duplicating it each time a new input is added."
   ]
  },
  {
   "cell_type": "code",
   "execution_count": 1,
   "metadata": {},
   "outputs": [
    {
     "name": "stdout",
     "output_type": "stream",
     "text": [
      "N: 0\n",
      "\n",
      "0\n",
      "---------------------\n",
      "N: 1\n",
      "\n",
      "0\t1\n",
      "---------------------\n",
      "N: 2\n",
      "\n",
      "0\t2\n",
      "1\t3\n",
      "---------------------\n",
      "N: 3\n",
      "\n",
      "0\t1\t5\t4\n",
      "2\t3\t7\t6\n",
      "---------------------\n",
      "N: 4\n",
      "\n",
      "0\t2\t10\t8\n",
      "1\t3\t11\t9\n",
      "5\t7\t15\t13\n",
      "4\t6\t14\t12\n",
      "---------------------\n"
     ]
    }
   ],
   "source": [
    "import karnaugh_map as KM\n",
    "\n",
    "# just an alias \n",
    "show_matrix = lambda n: print(KM.show(KM.kmapm(n), sep=\"\\t\"))\n",
    "\n",
    "for n in range(5):\n",
    "    print(f\"N: {n}\\n\")\n",
    "    show_matrix(n)\n",
    "    print(\"---------------------\")\n"
   ]
  },
  {
   "attachments": {},
   "cell_type": "markdown",
   "metadata": {},
   "source": [
    "- The same thing in binary form"
   ]
  },
  {
   "cell_type": "code",
   "execution_count": 2,
   "metadata": {},
   "outputs": [
    {
     "name": "stdout",
     "output_type": "stream",
     "text": [
      "N: 0\n",
      "\n",
      "0\n",
      "---------------------\n",
      "N: 1\n",
      "\n",
      "0\t1\n",
      "---------------------\n",
      "N: 2\n",
      "\n",
      "00\t10\n",
      "01\t11\n",
      "---------------------\n",
      "N: 3\n",
      "\n",
      "000\t001\t101\t100\n",
      "010\t011\t111\t110\n",
      "---------------------\n",
      "N: 4\n",
      "\n",
      "000\t010\t1010\t1000\n",
      "001\t011\t1011\t1001\n",
      "101\t111\t1111\t1101\n",
      "100\t110\t1110\t1100\n",
      "---------------------\n"
     ]
    }
   ],
   "source": [
    "# just an alias \n",
    "show_matrix_binary = lambda n: print(KM.show(KM.kmapm(n), sep=\"\\t\", binary=True))\n",
    "\n",
    "for n in range(5):\n",
    "    print(f\"N: {n}\\n\")\n",
    "    show_matrix_binary(n)\n",
    "    print(\"---------------------\")"
   ]
  },
  {
   "attachments": {},
   "cell_type": "markdown",
   "metadata": {},
   "source": [
    "My algorithm tries to implement the concept of duplicating and mirroring the the $N-1$ matrix by just concentrating on the first row of the matrix."
   ]
  },
  {
   "attachments": {},
   "cell_type": "markdown",
   "metadata": {},
   "source": [
    "The first row can be calculate with the function `KM.kmapv`"
   ]
  },
  {
   "cell_type": "code",
   "execution_count": 3,
   "metadata": {},
   "outputs": [
    {
     "data": {
      "text/plain": [
       "[0, 1, 5, 4]"
      ]
     },
     "execution_count": 3,
     "metadata": {},
     "output_type": "execute_result"
    }
   ],
   "source": [
    "V = KM.kmapv(3)\n",
    "\n",
    "V"
   ]
  },
  {
   "attachments": {},
   "cell_type": "markdown",
   "metadata": {},
   "source": [
    "This is not the only possible vector for a Karnaugh-Matrix but it is the easiest to obtain be applying a simple duplicating algorithm as described in the code\n",
    "\n",
    "See the evolution of the vector as the input number grows. See if you can spot the pattern."
   ]
  },
  {
   "cell_type": "code",
   "execution_count": 4,
   "metadata": {},
   "outputs": [
    {
     "name": "stdout",
     "output_type": "stream",
     "text": [
      "V0 :\t0\n",
      "V1 :\t0\t1\n",
      "V2 :\t0\t2\n",
      "V3 :\t0\t1\t5\t4\n",
      "V4 :\t0\t2\t10\t8\n",
      "V5 :\t0\t1\t5\t4\t20\t21\t17\t16\n",
      "V6 :\t0\t2\t10\t8\t40\t42\t34\t32\n"
     ]
    }
   ],
   "source": [
    "for n in range(7):\n",
    "\tprint(f\"V{n} :\", *KM.kmapv(n), sep=\"\\t\")"
   ]
  },
  {
   "attachments": {},
   "cell_type": "markdown",
   "metadata": {},
   "source": [
    "From this vector the rest of the matrix can be derived."
   ]
  },
  {
   "attachments": {},
   "cell_type": "markdown",
   "metadata": {},
   "source": [
    "## Logic Vector"
   ]
  },
  {
   "attachments": {},
   "cell_type": "markdown",
   "metadata": {},
   "source": [
    "What I refers to here as a logic vector is, the the colum of a given input in the truth table of the function.\n",
    "\n",
    "|     |  A  |  B  |  C  |  D  |  F  |\n",
    "| :-: | :-: | :-: | :-: | :-: | :-: |\n",
    "|  0  |  0  |  0  |  0  |  0  |  0  |\n",
    "|  1  |  0  |  0  |  0  |  1  |  0  |\n",
    "|  2  |  0  |  0  |  1  |  0  |  0  |\n",
    "|  3  |  0  |  0  |  1  |  1  |  0  |\n",
    "|  4  |  0  |  1  |  0  |  0  |  0  |\n",
    "|  5  |  0  |  1  |  0  |  1  |  0  |\n",
    "|  6  |  0  |  1  |  1  |  0  |  1  |\n",
    "|  7  |  0  |  1  |  1  |  1  |  0  |\n",
    "|  8  |  1  |  0  |  0  |  0  |  1  |\n",
    "|  9  |  1  |  0  |  0  |  1  |  1  |\n",
    "| 10  |  1  |  0  |  1  |  0  |  1  |\n",
    "| 11  |  1  |  0  |  1  |  1  |  1  |\n",
    "| 12  |  1  |  1  |  0  |  0  |  1  |\n",
    "| 13  |  1  |  1  |  0  |  1  |  1  |\n",
    "| 14  |  1  |  1  |  1  |  0  |  1  |\n",
    "| 15  |  1  |  1  |  1  |  1  |  0  |\n"
   ]
  },
  {
   "attachments": {},
   "cell_type": "markdown",
   "metadata": {},
   "source": [
    "\n",
    "To feed this into our program it's easier to read as a binary number from top to bottom.\n",
    "\n",
    "For example $A$ can be written as:\n",
    "\n",
    "$255_d$\n",
    "\n",
    "$0000000011111111_b$\n",
    "\n",
    "$377_o$\n",
    "\n",
    "$FF_{hex}$\n",
    "\n",
    "and feed it into python with prefix for the number.\n",
    "\n",
    "[\\*and perhaps a underline as a separator](https://peps.python.org/pep-0515/)"
   ]
  },
  {
   "attachments": {},
   "cell_type": "markdown",
   "metadata": {},
   "source": [
    "- To get an \\*input-space \\#all-possible-combination-matrix\n",
    "\n",
    "[\\* you can use `numpy.matrix.transpose` to make look nicer](https://numpy.org/doc/stable/reference/generated/numpy.transpose.html). I'm gonna skip that for now."
   ]
  },
  {
   "cell_type": "code",
   "execution_count": 5,
   "metadata": {},
   "outputs": [
    {
     "name": "stdout",
     "output_type": "stream",
     "text": [
      "0 0 0 0 1 1 1 1\n",
      "0 0 1 1 0 0 1 1\n",
      "0 1 0 1 0 1 0 1\n"
     ]
    }
   ],
   "source": [
    "i_matrix = KM.lvecs(3)\n",
    "\n",
    "for row in i_matrix:\n",
    "    print(*row)"
   ]
  },
  {
   "attachments": {},
   "cell_type": "markdown",
   "metadata": {},
   "source": []
  },
  {
   "attachments": {},
   "cell_type": "markdown",
   "metadata": {},
   "source": [
    "- Or just try:"
   ]
  },
  {
   "cell_type": "code",
   "execution_count": 6,
   "metadata": {},
   "outputs": [
    {
     "name": "stdout",
     "output_type": "stream",
     "text": [
      "X2\tX1\tX0\n",
      "0\t0\t0\n",
      "0\t0\t1\n",
      "0\t1\t0\n",
      "0\t1\t1\n",
      "1\t0\t0\n",
      "1\t0\t1\n",
      "1\t1\t0\n",
      "1\t1\t1\n"
     ]
    }
   ],
   "source": [
    "X2, X1, X0 = KM.lvecs(3)\n",
    "\n",
    "# or\n",
    "# input_space = KM.lvecs(3)\n",
    "# X2, X1, X0 = input_space\n",
    "\n",
    "print(*(f\"X{n}\" for n in range(2, -1, -1)), sep=\"\\t\")\n",
    "\n",
    "for X in zip(X2, X1, X0):\n",
    "    print(*X, sep=\"\\t\")"
   ]
  },
  {
   "attachments": {},
   "cell_type": "markdown",
   "metadata": {},
   "source": [
    "### Logic Vector Operation\n",
    "\n",
    "Basic functions for $AND$, $OR$, $XOR$ are already defined in the `karnaugh_map.py` module.\n"
   ]
  },
  {
   "cell_type": "code",
   "execution_count": 7,
   "metadata": {},
   "outputs": [
    {
     "name": "stdout",
     "output_type": "stream",
     "text": [
      "X2\tX1\tX0\tX1and2\tX0or1\tX0xor2\tX0andX1orX2\n",
      "0\t0\t0\t0\t0\t0\t0\n",
      "0\t0\t1\t0\t1\t1\t0\n",
      "0\t1\t0\t0\t0\t0\t0\n",
      "0\t1\t1\t0\t1\t1\t1\n",
      "1\t0\t0\t0\t1\t1\t0\n",
      "1\t0\t1\t0\t1\t0\t1\n",
      "1\t1\t0\t1\t1\t1\t0\n",
      "1\t1\t1\t1\t1\t0\t1\n"
     ]
    }
   ],
   "source": [
    "X2, X1, X0 = KM.lvecs(3)\n",
    "\n",
    "X1and2 = KM.und(X1, X2)\n",
    "\n",
    "X0or1 = KM.oder(X0, X2)\n",
    "\n",
    "X0xor2 = KM.xor(X0, X2)\n",
    "\n",
    "X0andX1orX2 = KM.und(X0, KM.oder(X1, X2))\n",
    "\n",
    "# You can combine it to\n",
    "\n",
    "T = X2, X1, X0, X1and2, X0or1, X0xor2, X0andX1orX2\n",
    "\n",
    "ST = \"X2, X1, X0, X1and2, X0or1, X0xor2, X0andX1orX2\"\n",
    "\n",
    "print(*ST.split(\", \"), sep= '\\t')\n",
    "\n",
    "S = KM.show_table(*T)"
   ]
  },
  {
   "attachments": {},
   "cell_type": "markdown",
   "metadata": {},
   "source": [
    "## Mapping an output logic vector to the Karnaugh-Matrix"
   ]
  },
  {
   "attachments": {},
   "cell_type": "markdown",
   "metadata": {},
   "source": [
    "- First you need a Karnaugh-Map matrix"
   ]
  },
  {
   "cell_type": "code",
   "execution_count": 8,
   "metadata": {},
   "outputs": [
    {
     "data": {
      "text/plain": [
       "[[0, 1, 5, 4], [2, 3, 7, 6]]"
      ]
     },
     "execution_count": 8,
     "metadata": {},
     "output_type": "execute_result"
    }
   ],
   "source": [
    "M = KM.kmapm(3)\n",
    "M"
   ]
  },
  {
   "attachments": {},
   "cell_type": "markdown",
   "metadata": {},
   "source": [
    "- A logic vector here I will say that the output is mapped to one of the inputs $X_0$"
   ]
  },
  {
   "cell_type": "code",
   "execution_count": 9,
   "metadata": {},
   "outputs": [
    {
     "data": {
      "text/plain": [
       "[[0, 1, 1, 0], [0, 1, 1, 0]]"
      ]
     },
     "execution_count": 9,
     "metadata": {},
     "output_type": "execute_result"
    }
   ],
   "source": [
    "k_map = KM.kmap(X0, M)\n",
    "\n",
    "k_map"
   ]
  },
  {
   "cell_type": "code",
   "execution_count": 10,
   "metadata": {},
   "outputs": [
    {
     "data": {
      "text/plain": [
       "'0 1 1 0\\n0 1 1 0'"
      ]
     },
     "execution_count": 10,
     "metadata": {},
     "output_type": "execute_result"
    }
   ],
   "source": [
    "# KM.show returns a string!\n",
    "\n",
    "KM.show(k_map)"
   ]
  },
  {
   "cell_type": "code",
   "execution_count": 11,
   "metadata": {},
   "outputs": [
    {
     "name": "stdout",
     "output_type": "stream",
     "text": [
      "0 1 1 0\n",
      "0 1 1 0\n"
     ]
    }
   ],
   "source": [
    "print(KM.show(k_map))"
   ]
  }
 ],
 "metadata": {
  "kernelspec": {
   "display_name": "Python 3",
   "language": "python",
   "name": "python3"
  },
  "language_info": {
   "codemirror_mode": {
    "name": "ipython",
    "version": 3
   },
   "file_extension": ".py",
   "mimetype": "text/x-python",
   "name": "python",
   "nbconvert_exporter": "python",
   "pygments_lexer": "ipython3",
   "version": "3.11.2"
  },
  "orig_nbformat": 4
 },
 "nbformat": 4,
 "nbformat_minor": 2
}
